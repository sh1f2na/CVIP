{
 "cells": [
  {
   "cell_type": "code",
   "execution_count": 9,
   "id": "65fd7e6a",
   "metadata": {},
   "outputs": [
    {
     "name": "stdout",
     "output_type": "stream",
     "text": [
      "select an operation to perform:\n",
      "1.Addition\n",
      "2.Substraction\n",
      "3.Multiplication\n",
      "4.Division\n",
      "5\n",
      "Invalid Entry\n"
     ]
    }
   ],
   "source": [
    "print(\"select an operation to perform:\")\n",
    "print(\"1.Addition\")\n",
    "print(\"2.Substraction\")\n",
    "print(\"3.Multiplication\")\n",
    "print(\"4.Division\") \n",
    "\n",
    "operation = input()\n",
    "\n",
    "if operation == \"1\":\n",
    "    num1 = int(input(\"Enter number 1:\"))\n",
    "    num2 = int(input(\"Enter number 2:\"))\n",
    "    print(\"The sum is\" + str(int(num1) + int(num2)))\n",
    "elif operation == \"2\":\n",
    "    num1 = int(input(\"Enter number 1:\"))\n",
    "    num2 = int(input(\"Enter number 2:\"))\n",
    "    print(\"The difference is\" + str(int(num1) - int(num2)))\n",
    "elif operation == \"3\":\n",
    "    num1 = int(input(\"Enter number 1:\"))\n",
    "    num2 = int(input(\"Enter number 2:\"))\n",
    "    print(\"The product is\" + str(int(num1) * int(num2)))\n",
    "elif operation == \"4\":\n",
    "    num1 = int(input(\"Enter number 1:\"))\n",
    "    num2 = int(input(\"Enter number 2:\"))\n",
    "    print(\"The Quotient is\" + str(int(num1) / int(num2)))\n",
    "else:\n",
    "    print(\"Invalid Entry\")\n",
    "    "
   ]
  },
  {
   "cell_type": "code",
   "execution_count": null,
   "id": "1b0a68a3",
   "metadata": {},
   "outputs": [],
   "source": []
  }
 ],
 "metadata": {
  "kernelspec": {
   "display_name": "Python 3 (ipykernel)",
   "language": "python",
   "name": "python3"
  },
  "language_info": {
   "codemirror_mode": {
    "name": "ipython",
    "version": 3
   },
   "file_extension": ".py",
   "mimetype": "text/x-python",
   "name": "python",
   "nbconvert_exporter": "python",
   "pygments_lexer": "ipython3",
   "version": "3.9.7"
  }
 },
 "nbformat": 4,
 "nbformat_minor": 5
}
